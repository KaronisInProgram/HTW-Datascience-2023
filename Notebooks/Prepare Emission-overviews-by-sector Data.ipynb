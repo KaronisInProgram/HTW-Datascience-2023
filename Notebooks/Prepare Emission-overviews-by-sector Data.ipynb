{
 "cells": [
  {
   "cell_type": "code",
   "execution_count": null,
   "id": "74971fc7",
   "metadata": {},
   "outputs": [],
   "source": [
    "import pandas as pd"
   ]
  },
  {
   "cell_type": "code",
   "execution_count": null,
   "id": "19a80b3d",
   "metadata": {},
   "outputs": [],
   "source": [
    "df = pd.read_excel('../Data/Raw/Emission_overviews_by_sector/2023_03_15_em_entwicklung_in_d_ksg-sektoren_pm.xlsx', sheet_name='THG kurz', skiprows=11, usecols='B:AJ')"
   ]
  },
  {
   "cell_type": "code",
   "execution_count": null,
   "id": "99f50024",
   "metadata": {},
   "outputs": [],
   "source": [
    "del df['Unnamed: 2']"
   ]
  },
  {
   "cell_type": "code",
   "execution_count": null,
   "id": "80c7ff79",
   "metadata": {},
   "outputs": [],
   "source": [
    "df_ready = df[0:6]"
   ]
  },
  {
   "cell_type": "code",
   "execution_count": null,
   "id": "26f6a133",
   "metadata": {
    "scrolled": true
   },
   "outputs": [],
   "source": [
    "df_ready = df_ready.replace(['1 - Energiewirtschaft', '2 - Industrie', '3 - Gebäude', '4 - Verkehr', '5 - Landwirtschaft', '6 - Abfallwirtschaft und Sonstiges'],['Energiewirtschaft', 'Industrie', 'Gebäude', 'Verkehr', 'Landwirtschaft', 'Abfallwirtschaft und Sonstiges'])"
   ]
  },
  {
   "cell_type": "code",
   "execution_count": null,
   "id": "3841c109",
   "metadata": {},
   "outputs": [],
   "source": [
    "# Rename Coloumns\n",
    "\n",
    "df_ready.columns = [\"Sektor des Klimaschutzgesetzes (KSG)\",\"1990\",\"1991\",\"1992\",\"1993\",\"1994\",\"1995\",\"1996\",\n",
    "                        \"1997\",\"1998\",\"1999\",\"2000\",\"2001\",\"2002\",\"2003\",\"2004\",\"2005\",\"2006\",\"2007\",\n",
    "                        \"2008\",\"2009\",\"2010\",\"2011\",\"2012\",\"2013\",\"2014\",\"2015\",\"2016\",\"2017\",\"2018\",\n",
    "                        \"2019\",\"2020\",\"2021\",\"2022\"]"
   ]
  }
 ],
 "metadata": {
  "kernelspec": {
   "display_name": "Python 3 (ipykernel)",
   "language": "python",
   "name": "python3"
  },
  "language_info": {
   "codemirror_mode": {
    "name": "ipython",
    "version": 3
   },
   "file_extension": ".py",
   "mimetype": "text/x-python",
   "name": "python",
   "nbconvert_exporter": "python",
   "pygments_lexer": "ipython3",
   "version": "3.10.11"
  }
 },
 "nbformat": 4,
 "nbformat_minor": 5
}
