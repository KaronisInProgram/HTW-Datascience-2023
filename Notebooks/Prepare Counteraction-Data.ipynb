{
 "cells": [
  {
   "cell_type": "code",
   "execution_count": 1,
   "id": "982a1826-0490-4e18-ad6e-7c66140d876d",
   "metadata": {},
   "outputs": [],
   "source": [
    "import pandas as pd"
   ]
  },
  {
   "cell_type": "code",
   "execution_count": 2,
   "id": "1cf8330b-adf0-4914-b45b-e117847d856b",
   "metadata": {},
   "outputs": [],
   "source": [
    "# Load Data from Disk\n",
    "\n",
    "couteractions = pd.read_csv(\"../Data/Raw/Covid-Counteractions/Bundesland_Oberkategorie.csv\")"
   ]
  },
  {
   "cell_type": "code",
   "execution_count": 3,
   "id": "e62364b4-b244-424b-bb33-aeb7bf092962",
   "metadata": {},
   "outputs": [],
   "source": [
    "# Remove Columns\n",
    "\n",
    "couteractions.drop([\"_id\", \"ags2\"], axis=1, inplace=True) # Identifier for the row and federalstate\n",
    "\n",
    "couteractions.drop([\"m_code_m16\"], axis=1, inplace=True) # Maskenpflicht\n",
    "couteractions.drop([\"m_code_m20\"], axis=1, inplace=True) # Abstandsregelung\n",
    "couteractions.drop([\"m_code_m21\"], axis=1, inplace=True) # Test-Maßnahmen"
   ]
  },
  {
   "cell_type": "code",
   "execution_count": 4,
   "id": "4aa9807e",
   "metadata": {},
   "outputs": [],
   "source": [
    "# Convert Coloums to concrete Datatypes\n",
    "\n",
    "columns = [\"m_code_m01a\", \"m_code_m01b\",\n",
    "            \"m_code_m02a\", \"m_code_m02b\",\n",
    "            \"m_code_m03\", \"m_code_m04\",\n",
    "            \"m_code_m05\", \"m_code_m06\",\n",
    "            \"m_code_m07\", \"m_code_m08\",\n",
    "            \"m_code_m09\", \"m_code_m10\",\n",
    "            \"m_code_m11\", \"m_code_m12\",\n",
    "            \"m_code_m13\", \"m_code_m14\",\n",
    "            \"m_code_m15\", \"m_code_m17\",\n",
    "            \"m_code_m18\", \"m_code_m19\"]\n",
    "\n",
    "couteractions[columns] = couteractions[columns].astype(\"boolean\")"
   ]
  },
  {
   "cell_type": "code",
   "execution_count": 5,
   "id": "648ffc36",
   "metadata": {},
   "outputs": [],
   "source": [
    "# Rename Columns\n",
    "\n",
    "couteractions.rename({\"bundesland\": \"Bundesland\",\n",
    "                        \"datum\": \"Datum\",\n",
    "                        \"m_code_m01a\": \"Kontaktbeschränkung Privatpersonen im privatem Raum\",\n",
    "                        \"m_code_m01b\": \"Kontaktbeschränkung Privatpersonen im öffentlichen Raum\",\n",
    "                        \"m_code_m02a\": \"Weiterführende Schulen\",\n",
    "                        \"m_code_m02b\": \"Grundschulen\",\n",
    "                        \"m_code_m03\": \"Kitas\",\n",
    "                        \"m_code_m04\": \"Öffentliche Events & Veranstaltungen Indoor\",\n",
    "                        \"m_code_m05\": \"Öffentliche Events & Veranstaltungen Outdoor\",\n",
    "                        \"m_code_m06\": \"Kultur- & Bildungseinrichtungen\",\n",
    "                        \"m_code_m07\": \"Groß- & Einzelhandel\",\n",
    "                        \"m_code_m08\": \"Gastronomie\",\n",
    "                        \"m_code_m09\": \"Dienstleistungen & Handwerk\",\n",
    "                        \"m_code_m10\": \"Einrichtungen des Nachtlebens\",\n",
    "                        \"m_code_m11\": \"Beherbergung\",\n",
    "                        \"m_code_m12\": \"Sport Indoor\",\n",
    "                        \"m_code_m13\": \"Sport Outdoor\",\n",
    "                        \"m_code_m14\": \"Reisebeschränkung Inland\",\n",
    "                        \"m_code_m15\": \"Reisebeschränkung Ausland\",\n",
    "                        \"m_code_m17\": \"Arbeitsplatzbeschränkung\",\n",
    "                        \"m_code_m18\": \"Ausgangsbeschränkung\",\n",
    "                        \"m_code_m19\": \"Kapazitätsbeschränkung im öffentlichen Verkehr\"}, axis=1, inplace=True)  "
   ]
  },
  {
   "cell_type": "code",
   "execution_count": 6,
   "id": "a8924103",
   "metadata": {},
   "outputs": [],
   "source": [
    "# Create Output Folder for PM10 if not allready present\n",
    "\n",
    "import os\n",
    "\n",
    "output_path = \"../Data/Output/Covid-Counteractions\"\n",
    "\n",
    "if not os.path.exists(output_path):\n",
    "   os.makedirs(output_path)\n",
    "\n",
    "# Save Dataset to Disk\n",
    "\n",
    "couteractions.to_csv(output_path + \"/Bundesland_Oberkategorie.csv\", index=False)"
   ]
  },
  {
   "cell_type": "code",
   "execution_count": 7,
   "id": "355f13a0",
   "metadata": {},
   "outputs": [
    {
     "ename": "ValueError",
     "evalue": "Missing column provided to 'parse_dates': 'datum'",
     "output_type": "error",
     "traceback": [
      "\u001b[1;31m---------------------------------------------------------------------------\u001b[0m",
      "\u001b[1;31mValueError\u001b[0m                                Traceback (most recent call last)",
      "Cell \u001b[1;32mIn[7], line 1\u001b[0m\n\u001b[1;32m----> 1\u001b[0m couteractions_test \u001b[39m=\u001b[39m pd\u001b[39m.\u001b[39;49mread_csv(output_path \u001b[39m+\u001b[39;49m \u001b[39m\"\u001b[39;49m\u001b[39m/Bundesland_Oberkategorie.csv\u001b[39;49m\u001b[39m\"\u001b[39;49m, \n\u001b[0;32m      2\u001b[0m                                         parse_dates \u001b[39m=\u001b[39;49m [\u001b[39m\"\u001b[39;49m\u001b[39mdatum\u001b[39;49m\u001b[39m\"\u001b[39;49m])\n",
      "File \u001b[1;32mc:\\Users\\Karonis\\.conda\\envs\\datascience\\lib\\site-packages\\pandas\\util\\_decorators.py:211\u001b[0m, in \u001b[0;36mdeprecate_kwarg.<locals>._deprecate_kwarg.<locals>.wrapper\u001b[1;34m(*args, **kwargs)\u001b[0m\n\u001b[0;32m    209\u001b[0m     \u001b[39melse\u001b[39;00m:\n\u001b[0;32m    210\u001b[0m         kwargs[new_arg_name] \u001b[39m=\u001b[39m new_arg_value\n\u001b[1;32m--> 211\u001b[0m \u001b[39mreturn\u001b[39;00m func(\u001b[39m*\u001b[39margs, \u001b[39m*\u001b[39m\u001b[39m*\u001b[39mkwargs)\n",
      "File \u001b[1;32mc:\\Users\\Karonis\\.conda\\envs\\datascience\\lib\\site-packages\\pandas\\util\\_decorators.py:331\u001b[0m, in \u001b[0;36mdeprecate_nonkeyword_arguments.<locals>.decorate.<locals>.wrapper\u001b[1;34m(*args, **kwargs)\u001b[0m\n\u001b[0;32m    325\u001b[0m \u001b[39mif\u001b[39;00m \u001b[39mlen\u001b[39m(args) \u001b[39m>\u001b[39m num_allow_args:\n\u001b[0;32m    326\u001b[0m     warnings\u001b[39m.\u001b[39mwarn(\n\u001b[0;32m    327\u001b[0m         msg\u001b[39m.\u001b[39mformat(arguments\u001b[39m=\u001b[39m_format_argument_list(allow_args)),\n\u001b[0;32m    328\u001b[0m         \u001b[39mFutureWarning\u001b[39;00m,\n\u001b[0;32m    329\u001b[0m         stacklevel\u001b[39m=\u001b[39mfind_stack_level(),\n\u001b[0;32m    330\u001b[0m     )\n\u001b[1;32m--> 331\u001b[0m \u001b[39mreturn\u001b[39;00m func(\u001b[39m*\u001b[39margs, \u001b[39m*\u001b[39m\u001b[39m*\u001b[39mkwargs)\n",
      "File \u001b[1;32mc:\\Users\\Karonis\\.conda\\envs\\datascience\\lib\\site-packages\\pandas\\io\\parsers\\readers.py:950\u001b[0m, in \u001b[0;36mread_csv\u001b[1;34m(filepath_or_buffer, sep, delimiter, header, names, index_col, usecols, squeeze, prefix, mangle_dupe_cols, dtype, engine, converters, true_values, false_values, skipinitialspace, skiprows, skipfooter, nrows, na_values, keep_default_na, na_filter, verbose, skip_blank_lines, parse_dates, infer_datetime_format, keep_date_col, date_parser, dayfirst, cache_dates, iterator, chunksize, compression, thousands, decimal, lineterminator, quotechar, quoting, doublequote, escapechar, comment, encoding, encoding_errors, dialect, error_bad_lines, warn_bad_lines, on_bad_lines, delim_whitespace, low_memory, memory_map, float_precision, storage_options)\u001b[0m\n\u001b[0;32m    935\u001b[0m kwds_defaults \u001b[39m=\u001b[39m _refine_defaults_read(\n\u001b[0;32m    936\u001b[0m     dialect,\n\u001b[0;32m    937\u001b[0m     delimiter,\n\u001b[1;32m   (...)\u001b[0m\n\u001b[0;32m    946\u001b[0m     defaults\u001b[39m=\u001b[39m{\u001b[39m\"\u001b[39m\u001b[39mdelimiter\u001b[39m\u001b[39m\"\u001b[39m: \u001b[39m\"\u001b[39m\u001b[39m,\u001b[39m\u001b[39m\"\u001b[39m},\n\u001b[0;32m    947\u001b[0m )\n\u001b[0;32m    948\u001b[0m kwds\u001b[39m.\u001b[39mupdate(kwds_defaults)\n\u001b[1;32m--> 950\u001b[0m \u001b[39mreturn\u001b[39;00m _read(filepath_or_buffer, kwds)\n",
      "File \u001b[1;32mc:\\Users\\Karonis\\.conda\\envs\\datascience\\lib\\site-packages\\pandas\\io\\parsers\\readers.py:605\u001b[0m, in \u001b[0;36m_read\u001b[1;34m(filepath_or_buffer, kwds)\u001b[0m\n\u001b[0;32m    602\u001b[0m _validate_names(kwds\u001b[39m.\u001b[39mget(\u001b[39m\"\u001b[39m\u001b[39mnames\u001b[39m\u001b[39m\"\u001b[39m, \u001b[39mNone\u001b[39;00m))\n\u001b[0;32m    604\u001b[0m \u001b[39m# Create the parser.\u001b[39;00m\n\u001b[1;32m--> 605\u001b[0m parser \u001b[39m=\u001b[39m TextFileReader(filepath_or_buffer, \u001b[39m*\u001b[39m\u001b[39m*\u001b[39mkwds)\n\u001b[0;32m    607\u001b[0m \u001b[39mif\u001b[39;00m chunksize \u001b[39mor\u001b[39;00m iterator:\n\u001b[0;32m    608\u001b[0m     \u001b[39mreturn\u001b[39;00m parser\n",
      "File \u001b[1;32mc:\\Users\\Karonis\\.conda\\envs\\datascience\\lib\\site-packages\\pandas\\io\\parsers\\readers.py:1442\u001b[0m, in \u001b[0;36mTextFileReader.__init__\u001b[1;34m(self, f, engine, **kwds)\u001b[0m\n\u001b[0;32m   1439\u001b[0m     \u001b[39mself\u001b[39m\u001b[39m.\u001b[39moptions[\u001b[39m\"\u001b[39m\u001b[39mhas_index_names\u001b[39m\u001b[39m\"\u001b[39m] \u001b[39m=\u001b[39m kwds[\u001b[39m\"\u001b[39m\u001b[39mhas_index_names\u001b[39m\u001b[39m\"\u001b[39m]\n\u001b[0;32m   1441\u001b[0m \u001b[39mself\u001b[39m\u001b[39m.\u001b[39mhandles: IOHandles \u001b[39m|\u001b[39m \u001b[39mNone\u001b[39;00m \u001b[39m=\u001b[39m \u001b[39mNone\u001b[39;00m\n\u001b[1;32m-> 1442\u001b[0m \u001b[39mself\u001b[39m\u001b[39m.\u001b[39m_engine \u001b[39m=\u001b[39m \u001b[39mself\u001b[39;49m\u001b[39m.\u001b[39;49m_make_engine(f, \u001b[39mself\u001b[39;49m\u001b[39m.\u001b[39;49mengine)\n",
      "File \u001b[1;32mc:\\Users\\Karonis\\.conda\\envs\\datascience\\lib\\site-packages\\pandas\\io\\parsers\\readers.py:1753\u001b[0m, in \u001b[0;36mTextFileReader._make_engine\u001b[1;34m(self, f, engine)\u001b[0m\n\u001b[0;32m   1750\u001b[0m     \u001b[39mraise\u001b[39;00m \u001b[39mValueError\u001b[39;00m(msg)\n\u001b[0;32m   1752\u001b[0m \u001b[39mtry\u001b[39;00m:\n\u001b[1;32m-> 1753\u001b[0m     \u001b[39mreturn\u001b[39;00m mapping[engine](f, \u001b[39m*\u001b[39m\u001b[39m*\u001b[39m\u001b[39mself\u001b[39m\u001b[39m.\u001b[39moptions)\n\u001b[0;32m   1754\u001b[0m \u001b[39mexcept\u001b[39;00m \u001b[39mException\u001b[39;00m:\n\u001b[0;32m   1755\u001b[0m     \u001b[39mif\u001b[39;00m \u001b[39mself\u001b[39m\u001b[39m.\u001b[39mhandles \u001b[39mis\u001b[39;00m \u001b[39mnot\u001b[39;00m \u001b[39mNone\u001b[39;00m:\n",
      "File \u001b[1;32mc:\\Users\\Karonis\\.conda\\envs\\datascience\\lib\\site-packages\\pandas\\io\\parsers\\c_parser_wrapper.py:156\u001b[0m, in \u001b[0;36mCParserWrapper.__init__\u001b[1;34m(self, src, **kwds)\u001b[0m\n\u001b[0;32m    150\u001b[0m         \u001b[39mself\u001b[39m\u001b[39m.\u001b[39m_validate_usecols_names(\n\u001b[0;32m    151\u001b[0m             usecols,\n\u001b[0;32m    152\u001b[0m             \u001b[39mself\u001b[39m\u001b[39m.\u001b[39mnames,  \u001b[39m# type: ignore[has-type]\u001b[39;00m\n\u001b[0;32m    153\u001b[0m         )\n\u001b[0;32m    155\u001b[0m \u001b[39m# error: Cannot determine type of 'names'\u001b[39;00m\n\u001b[1;32m--> 156\u001b[0m \u001b[39mself\u001b[39;49m\u001b[39m.\u001b[39;49m_validate_parse_dates_presence(\u001b[39mself\u001b[39;49m\u001b[39m.\u001b[39;49mnames)  \u001b[39m# type: ignore[has-type]\u001b[39;00m\n\u001b[0;32m    157\u001b[0m \u001b[39mself\u001b[39m\u001b[39m.\u001b[39m_set_noconvert_columns()\n\u001b[0;32m    159\u001b[0m \u001b[39m# error: Cannot determine type of 'names'\u001b[39;00m\n",
      "File \u001b[1;32mc:\\Users\\Karonis\\.conda\\envs\\datascience\\lib\\site-packages\\pandas\\io\\parsers\\base_parser.py:217\u001b[0m, in \u001b[0;36mParserBase._validate_parse_dates_presence\u001b[1;34m(self, columns)\u001b[0m\n\u001b[0;32m    207\u001b[0m missing_cols \u001b[39m=\u001b[39m \u001b[39m\"\u001b[39m\u001b[39m, \u001b[39m\u001b[39m\"\u001b[39m\u001b[39m.\u001b[39mjoin(\n\u001b[0;32m    208\u001b[0m     \u001b[39msorted\u001b[39m(\n\u001b[0;32m    209\u001b[0m         {\n\u001b[1;32m   (...)\u001b[0m\n\u001b[0;32m    214\u001b[0m     )\n\u001b[0;32m    215\u001b[0m )\n\u001b[0;32m    216\u001b[0m \u001b[39mif\u001b[39;00m missing_cols:\n\u001b[1;32m--> 217\u001b[0m     \u001b[39mraise\u001b[39;00m \u001b[39mValueError\u001b[39;00m(\n\u001b[0;32m    218\u001b[0m         \u001b[39mf\u001b[39m\u001b[39m\"\u001b[39m\u001b[39mMissing column provided to \u001b[39m\u001b[39m'\u001b[39m\u001b[39mparse_dates\u001b[39m\u001b[39m'\u001b[39m\u001b[39m: \u001b[39m\u001b[39m'\u001b[39m\u001b[39m{\u001b[39;00mmissing_cols\u001b[39m}\u001b[39;00m\u001b[39m'\u001b[39m\u001b[39m\"\u001b[39m\n\u001b[0;32m    219\u001b[0m     )\n\u001b[0;32m    220\u001b[0m \u001b[39m# Convert positions to actual column names\u001b[39;00m\n\u001b[0;32m    221\u001b[0m \u001b[39mreturn\u001b[39;00m [\n\u001b[0;32m    222\u001b[0m     col \u001b[39mif\u001b[39;00m (\u001b[39misinstance\u001b[39m(col, \u001b[39mstr\u001b[39m) \u001b[39mor\u001b[39;00m col \u001b[39min\u001b[39;00m columns) \u001b[39melse\u001b[39;00m columns[col]\n\u001b[0;32m    223\u001b[0m     \u001b[39mfor\u001b[39;00m col \u001b[39min\u001b[39;00m cols_needed\n\u001b[0;32m    224\u001b[0m ]\n",
      "\u001b[1;31mValueError\u001b[0m: Missing column provided to 'parse_dates': 'datum'"
     ]
    }
   ],
   "source": [
    "couteractions_test = pd.read_csv(output_path + \"/Bundesland_Oberkategorie.csv\", \n",
    "                                        parse_dates = [\"Datum\"])"
   ]
  }
 ],
 "metadata": {
  "kernelspec": {
   "display_name": "Python 3 (ipykernel)",
   "language": "python",
   "name": "python3"
  },
  "language_info": {
   "codemirror_mode": {
    "name": "ipython",
    "version": 3
   },
   "file_extension": ".py",
   "mimetype": "text/x-python",
   "name": "python",
   "nbconvert_exporter": "python",
   "pygments_lexer": "ipython3",
   "version": "3.10.11"
  }
 },
 "nbformat": 4,
 "nbformat_minor": 5
}
