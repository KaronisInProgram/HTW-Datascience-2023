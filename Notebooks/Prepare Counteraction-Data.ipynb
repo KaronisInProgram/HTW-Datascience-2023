{
 "cells": [
  {
   "cell_type": "code",
   "execution_count": 1,
   "id": "982a1826-0490-4e18-ad6e-7c66140d876d",
   "metadata": {},
   "outputs": [],
   "source": [
    "import pandas as pd"
   ]
  },
  {
   "cell_type": "code",
   "execution_count": 2,
   "id": "1cf8330b-adf0-4914-b45b-e117847d856b",
   "metadata": {},
   "outputs": [],
   "source": [
    "# Load Data from Disk\n",
    "\n",
    "couteractions = pd.read_csv(\"../Data/Raw/Covid-Counteractions/Bundesland_Oberkategorie.csv\")"
   ]
  },
  {
   "cell_type": "code",
   "execution_count": 3,
   "id": "e62364b4-b244-424b-bb33-aeb7bf092962",
   "metadata": {},
   "outputs": [],
   "source": [
    "# Remove Columns\n",
    "\n",
    "couteractions.drop([\"_id\", \"ags2\"], axis=1, inplace=True) # Identifier for the row and federalstate\n",
    "\n",
    "couteractions.drop([\"m_code_m16\"], axis=1, inplace=True) # Maskenpflicht\n",
    "couteractions.drop([\"m_code_m20\"], axis=1, inplace=True) # Abstandsregelung\n",
    "couteractions.drop([\"m_code_m21\"], axis=1, inplace=True) # Test-Maßnahmen"
   ]
  },
  {
   "cell_type": "code",
   "execution_count": 4,
   "id": "4aa9807e",
   "metadata": {},
   "outputs": [],
   "source": [
    "# Convert Coloums to concrete Datatypes\n",
    "\n",
    "columns = [\"m_code_m01a\", \"m_code_m01b\",\n",
    "            \"m_code_m02a\", \"m_code_m02b\",\n",
    "            \"m_code_m03\", \"m_code_m04\",\n",
    "            \"m_code_m05\", \"m_code_m06\",\n",
    "            \"m_code_m07\", \"m_code_m08\",\n",
    "            \"m_code_m09\", \"m_code_m10\",\n",
    "            \"m_code_m11\", \"m_code_m12\",\n",
    "            \"m_code_m13\", \"m_code_m14\",\n",
    "            \"m_code_m15\", \"m_code_m17\",\n",
    "            \"m_code_m18\", \"m_code_m19\"]\n",
    "\n",
    "couteractions[columns] = couteractions[columns].astype(\"boolean\")"
   ]
  },
  {
   "cell_type": "code",
   "execution_count": 5,
   "id": "648ffc36",
   "metadata": {},
   "outputs": [],
   "source": [
    "# Rename Columns\n",
    "\n",
    "couteractions.rename({\"bundesland\": \"Bundesland\",\n",
    "                        \"datum\": \"Datum\",\n",
    "                        \"m_code_m01a\": \"Kontaktbeschränkung Privatpersonen im privatem Raum\",\n",
    "                        \"m_code_m01b\": \"Kontaktbeschränkung Privatpersonen im öffentlichen Raum\",\n",
    "                        \"m_code_m02a\": \"Weiterführende Schulen\",\n",
    "                        \"m_code_m02b\": \"Grundschulen\",\n",
    "                        \"m_code_m03\": \"Kitas\",\n",
    "                        \"m_code_m04\": \"Öffentliche Events & Veranstaltungen Indoor\",\n",
    "                        \"m_code_m05\": \"Öffentliche Events & Veranstaltungen Outdoor\",\n",
    "                        \"m_code_m06\": \"Kultur- & Bildungseinrichtungen\",\n",
    "                        \"m_code_m07\": \"Groß- & Einzelhandel\",\n",
    "                        \"m_code_m08\": \"Gastronomie\",\n",
    "                        \"m_code_m09\": \"Dienstleistungen & Handwerk\",\n",
    "                        \"m_code_m10\": \"Einrichtungen des Nachtlebens\",\n",
    "                        \"m_code_m11\": \"Beherbergung\",\n",
    "                        \"m_code_m12\": \"Sport Indoor\",\n",
    "                        \"m_code_m13\": \"Sport Outdoor\",\n",
    "                        \"m_code_m14\": \"Reisebeschränkung Inland\",\n",
    "                        \"m_code_m15\": \"Reisebeschränkung Ausland\",\n",
    "                        \"m_code_m17\": \"Arbeitsplatzbeschränkung\",\n",
    "                        \"m_code_m18\": \"Ausgangsbeschränkung\",\n",
    "                        \"m_code_m19\": \"Kapazitätsbeschränkung im öffentlichen Verkehr\"}, axis=1, inplace=True)  "
   ]
  },
  {
   "cell_type": "code",
   "execution_count": 6,
   "id": "a8924103",
   "metadata": {},
   "outputs": [],
   "source": [
    "# Create Output Folder for PM10 if not allready present\n",
    "\n",
    "import os\n",
    "\n",
    "output_path = \"../Data/Output/Covid-Counteractions\"\n",
    "\n",
    "if not os.path.exists(output_path):\n",
    "   os.makedirs(output_path)\n",
    "\n",
    "# Save Dataset to Disk\n",
    "\n",
    "couteractions.to_csv(output_path + \"/Bundesland_Oberkategorie.csv\", index=False)"
   ]
  },
  {
   "cell_type": "code",
   "execution_count": 8,
   "id": "355f13a0",
   "metadata": {},
   "outputs": [],
   "source": [
    "couteractions_test = pd.read_csv(output_path + \"/Bundesland_Oberkategorie.csv\", \n",
    "                                        parse_dates = [\"Datum\"])"
   ]
  }
 ],
 "metadata": {
  "kernelspec": {
   "display_name": "Python 3 (ipykernel)",
   "language": "python",
   "name": "python3"
  },
  "language_info": {
   "codemirror_mode": {
    "name": "ipython",
    "version": 3
   },
   "file_extension": ".py",
   "mimetype": "text/x-python",
   "name": "python",
   "nbconvert_exporter": "python",
   "pygments_lexer": "ipython3",
   "version": "3.10.11"
  }
 },
 "nbformat": 4,
 "nbformat_minor": 5
}
