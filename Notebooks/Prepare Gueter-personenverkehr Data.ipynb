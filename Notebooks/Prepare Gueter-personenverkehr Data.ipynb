{
 "cells": [
  {
   "cell_type": "code",
   "execution_count": 4,
   "id": "d2849ce7",
   "metadata": {},
   "outputs": [],
   "source": [
    "import pandas as pd"
   ]
  },
  {
   "cell_type": "code",
   "execution_count": 5,
   "id": "941e46d4",
   "metadata": {},
   "outputs": [
    {
     "data": {
      "text/plain": [
       "<module 'pandas' from 'c:\\\\Users\\\\Karonis\\\\.conda\\\\envs\\\\datascience\\\\lib\\\\site-packages\\\\pandas\\\\__init__.py'>"
      ]
     },
     "execution_count": 5,
     "metadata": {},
     "output_type": "execute_result"
    }
   ],
   "source": [
    "pd"
   ]
  },
  {
   "cell_type": "code",
   "execution_count": 6,
   "id": "6a210b7d",
   "metadata": {},
   "outputs": [],
   "source": [
    "df = pd.read_csv('../Data/Raw/Gueter_Personenverkehr/gueter-personenverkehr.csv')"
   ]
  },
  {
   "cell_type": "code",
   "execution_count": 7,
   "id": "067fdee9",
   "metadata": {},
   "outputs": [
    {
     "data": {
      "text/html": [
       "<div>\n",
       "<style scoped>\n",
       "    .dataframe tbody tr th:only-of-type {\n",
       "        vertical-align: middle;\n",
       "    }\n",
       "\n",
       "    .dataframe tbody tr th {\n",
       "        vertical-align: top;\n",
       "    }\n",
       "\n",
       "    .dataframe thead th {\n",
       "        text-align: right;\n",
       "    }\n",
       "</style>\n",
       "<table border=\"1\" class=\"dataframe\">\n",
       "  <thead>\n",
       "    <tr style=\"text-align: right;\">\n",
       "      <th></th>\n",
       "      <th></th>\n",
       "      <th>Jahr;\"Personenverkehr\";\"Güterverkehr\"</th>\n",
       "    </tr>\n",
       "  </thead>\n",
       "  <tbody>\n",
       "    <tr>\n",
       "      <th>2002;102</th>\n",
       "      <th>155347702318;100</th>\n",
       "      <td>889041460304</td>\n",
       "    </tr>\n",
       "    <tr>\n",
       "      <th>2003;102</th>\n",
       "      <th>0073200488;105</th>\n",
       "      <td>906900140053</td>\n",
       "    </tr>\n",
       "    <tr>\n",
       "      <th>2004;104</th>\n",
       "      <th>412410592541;111</th>\n",
       "      <td>720438310291</td>\n",
       "    </tr>\n",
       "    <tr>\n",
       "      <th>2005;104</th>\n",
       "      <th>064684352798;113</th>\n",
       "      <td>449329272586</td>\n",
       "    </tr>\n",
       "    <tr>\n",
       "      <th>2006;105</th>\n",
       "      <th>159725378561;122</th>\n",
       "      <td>654609025968</td>\n",
       "    </tr>\n",
       "    <tr>\n",
       "      <th>2007;105</th>\n",
       "      <th>509078295816;127</th>\n",
       "      <td>242975064354</td>\n",
       "    </tr>\n",
       "    <tr>\n",
       "      <th>2008;106</th>\n",
       "      <th>346625840251;127</th>\n",
       "      <td>98946298774</td>\n",
       "    </tr>\n",
       "    <tr>\n",
       "      <th>2009;106</th>\n",
       "      <th>972800995144;114</th>\n",
       "      <td>268126070934</td>\n",
       "    </tr>\n",
       "    <tr>\n",
       "      <th>2010;106</th>\n",
       "      <th>905246034974;122</th>\n",
       "      <td>814612038276</td>\n",
       "    </tr>\n",
       "    <tr>\n",
       "      <th>2011;108</th>\n",
       "      <th>222280697558;122</th>\n",
       "      <td>855700694004</td>\n",
       "    </tr>\n",
       "    <tr>\n",
       "      <th>2012;108</th>\n",
       "      <th>65803889673;120</th>\n",
       "      <td>918656941217</td>\n",
       "    </tr>\n",
       "    <tr>\n",
       "      <th>2013;109</th>\n",
       "      <th>486113436835;124</th>\n",
       "      <td>199950120883</td>\n",
       "    </tr>\n",
       "    <tr>\n",
       "      <th>2014;111</th>\n",
       "      <th>270004545128;125</th>\n",
       "      <td>703750713956</td>\n",
       "    </tr>\n",
       "    <tr>\n",
       "      <th>2015;112</th>\n",
       "      <th>958782862474;128</th>\n",
       "      <td>256077428037</td>\n",
       "    </tr>\n",
       "    <tr>\n",
       "      <th>2016;115</th>\n",
       "      <th>276894002823;132</th>\n",
       "      <td>410819269379</td>\n",
       "    </tr>\n",
       "    <tr>\n",
       "      <th>2017;110</th>\n",
       "      <th>535894553023;135</th>\n",
       "      <td>467695741302</td>\n",
       "    </tr>\n",
       "    <tr>\n",
       "      <th>2018;111</th>\n",
       "      <th>188862043394;135</th>\n",
       "      <td>555223028112</td>\n",
       "    </tr>\n",
       "    <tr>\n",
       "      <th>2019;111</th>\n",
       "      <th>96325622563;136</th>\n",
       "      <td>516136383197</td>\n",
       "    </tr>\n",
       "    <tr>\n",
       "      <th>2020;88</th>\n",
       "      <th>213764562352;131</th>\n",
       "      <td>93202727507</td>\n",
       "    </tr>\n",
       "    <tr>\n",
       "      <th>2021;88</th>\n",
       "      <th>625218285769;137</th>\n",
       "      <td>413581203202</td>\n",
       "    </tr>\n",
       "  </tbody>\n",
       "</table>\n",
       "</div>"
      ],
      "text/plain": [
       "                           Jahr;\"Personenverkehr\";\"Güterverkehr\"\n",
       "2002;102 155347702318;100                           889041460304\n",
       "2003;102 0073200488;105                             906900140053\n",
       "2004;104 412410592541;111                           720438310291\n",
       "2005;104 064684352798;113                           449329272586\n",
       "2006;105 159725378561;122                           654609025968\n",
       "2007;105 509078295816;127                           242975064354\n",
       "2008;106 346625840251;127                            98946298774\n",
       "2009;106 972800995144;114                           268126070934\n",
       "2010;106 905246034974;122                           814612038276\n",
       "2011;108 222280697558;122                           855700694004\n",
       "2012;108 65803889673;120                            918656941217\n",
       "2013;109 486113436835;124                           199950120883\n",
       "2014;111 270004545128;125                           703750713956\n",
       "2015;112 958782862474;128                           256077428037\n",
       "2016;115 276894002823;132                           410819269379\n",
       "2017;110 535894553023;135                           467695741302\n",
       "2018;111 188862043394;135                           555223028112\n",
       "2019;111 96325622563;136                            516136383197\n",
       "2020;88  213764562352;131                            93202727507\n",
       "2021;88  625218285769;137                           413581203202"
      ]
     },
     "execution_count": 7,
     "metadata": {},
     "output_type": "execute_result"
    }
   ],
   "source": [
    "df"
   ]
  }
 ],
 "metadata": {
  "kernelspec": {
   "display_name": "Python 3 (ipykernel)",
   "language": "python",
   "name": "python3"
  },
  "language_info": {
   "codemirror_mode": {
    "name": "ipython",
    "version": 3
   },
   "file_extension": ".py",
   "mimetype": "text/x-python",
   "name": "python",
   "nbconvert_exporter": "python",
   "pygments_lexer": "ipython3",
   "version": "3.10.11"
  }
 },
 "nbformat": 4,
 "nbformat_minor": 5
}
