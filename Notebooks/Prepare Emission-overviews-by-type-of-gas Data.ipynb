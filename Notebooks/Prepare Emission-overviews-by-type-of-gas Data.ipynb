{
 "cells": [
  {
   "cell_type": "code",
   "execution_count": null,
   "id": "9457931d",
   "metadata": {},
   "outputs": [],
   "source": [
    "import pandas as pd"
   ]
  },
  {
   "cell_type": "code",
   "execution_count": null,
   "id": "69d617d3",
   "metadata": {},
   "outputs": [],
   "source": [
    "df = pd.read_excel('../Data/Raw/Emission_overviews_by_type_of_gas/2023_03_15_em_entwicklung_in_d_ksg-sektoren_pm.xlsx', sheet_name='THG kurz', skiprows=4, usecols='B:AJ')"
   ]
  },
  {
   "cell_type": "code",
   "execution_count": null,
   "id": "2acf378b",
   "metadata": {},
   "outputs": [],
   "source": [
    "del df['Unnamed: 2']"
   ]
  },
  {
   "cell_type": "code",
   "execution_count": null,
   "id": "8ff72681",
   "metadata": {
    "scrolled": true
   },
   "outputs": [],
   "source": [
    "df_ready = df[0:5]"
   ]
  },
  {
   "cell_type": "code",
   "execution_count": null,
   "id": "9b6495ae",
   "metadata": {},
   "outputs": [],
   "source": [
    "# Rename Coloumns\n",
    "\n",
    "df_ready.columns = [\"Übersicht nach Treibhausgasen\",\"1990\",\"1991\",\"1992\",\"1993\",\"1994\",\"1995\",\"1996\",\n",
    "                        \"1997\",\"1998\",\"1999\",\"2000\",\"2001\",\"2002\",\"2003\",\"2004\",\"2005\",\"2006\",\"2007\",\n",
    "                        \"2008\",\"2009\",\"2010\",\"2011\",\"2012\",\"2013\",\"2014\",\"2015\",\"2016\",\"2017\",\"2018\",\n",
    "                        \"2019\",\"2020\",\"2021\",\"2022\"]"
   ]
  }
 ],
 "metadata": {
  "kernelspec": {
   "display_name": "Python 3 (ipykernel)",
   "language": "python",
   "name": "python3"
  },
  "language_info": {
   "codemirror_mode": {
    "name": "ipython",
    "version": 3
   },
   "file_extension": ".py",
   "mimetype": "text/x-python",
   "name": "python",
   "nbconvert_exporter": "python",
   "pygments_lexer": "ipython3",
   "version": "3.10.11"
  }
 },
 "nbformat": 4,
 "nbformat_minor": 5
}
