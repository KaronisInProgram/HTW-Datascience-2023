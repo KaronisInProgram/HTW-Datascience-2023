{
 "cells": [
  {
   "cell_type": "code",
   "execution_count": 1,
   "id": "982a1826-0490-4e18-ad6e-7c66140d876d",
   "metadata": {},
   "outputs": [],
   "source": [
    "import pandas as pd\n",
    "import numpy as np"
   ]
  },
  {
   "cell_type": "code",
   "execution_count": 2,
   "id": "1cf8330b-adf0-4914-b45b-e117847d856b",
   "metadata": {},
   "outputs": [],
   "source": [
    "# Load Data from Disk\n",
    "\n",
    "air_quality_2016 = pd.read_csv(\"../Data/Raw/PM10/2016-01-01-2016-12-31.csv\", sep = \";\")\n",
    "air_quality_2017 = pd.read_csv(\"../Data/Raw/PM10/2017-01-01-2017-12-31.csv\", sep = \";\")\n",
    "air_quality_2018 = pd.read_csv(\"../Data/Raw/PM10/2018-01-01-2018-12-31.csv\", sep = \";\")\n",
    "air_quality_2019 = pd.read_csv(\"../Data/Raw/PM10/2019-01-01-2019-12-31.csv\", sep = \";\")\n",
    "air_quality_2020 = pd.read_csv(\"../Data/Raw/PM10/2020-01-01-2020-12-31.csv\", sep = \";\")\n",
    "air_quality_2021 = pd.read_csv(\"../Data/Raw/PM10/2021-01-01-2021-12-31.csv\", sep = \";\")\n",
    "air_quality_2022 = pd.read_csv(\"../Data/Raw/PM10/2022-01-01-2022-12-31.csv\", sep = \";\")"
   ]
  },
  {
   "cell_type": "code",
   "execution_count": 3,
   "id": "e62364b4-b244-424b-bb33-aeb7bf092962",
   "metadata": {},
   "outputs": [],
   "source": [
    "# Remove source on all split Datasets\n",
    "\n",
    "air_quality_2016.drop(air_quality_2016.tail(1).index, inplace=True)\n",
    "air_quality_2017.drop(air_quality_2017.tail(1).index, inplace=True)\n",
    "air_quality_2018.drop(air_quality_2018.tail(1).index, inplace=True)\n",
    "air_quality_2019.drop(air_quality_2019.tail(1).index, inplace=True)\n",
    "air_quality_2020.drop(air_quality_2020.tail(1).index, inplace=True)\n",
    "air_quality_2021.drop(air_quality_2021.tail(1).index, inplace=True)\n",
    "air_quality_2022.drop(air_quality_2022.tail(1).index, inplace=True)"
   ]
  },
  {
   "cell_type": "code",
   "execution_count": 4,
   "id": "207f417e",
   "metadata": {},
   "outputs": [
    {
     "name": "stdout",
     "output_type": "stream",
     "text": [
      "Art der Station 'Hintergrund' ist verbunden mit Stationsumgebung(en): vorstädtisches Gebiet, städtisches Gebiet, ländlich regional, ländlich stadtnah, ländliches Gebiet, ländlich abgelegen\n",
      "Art der Station 'Industrie' ist verbunden mit Stationsumgebung(en): vorstädtisches Gebiet, ländlich regional, städtisches Gebiet, ländliches Gebiet, ländlich stadtnah\n",
      "Art der Station 'Verkehr' ist verbunden mit Stationsumgebung(en): städtisches Gebiet, vorstädtisches Gebiet, ländlich stadtnah, ländliches Gebiet\n"
     ]
    }
   ],
   "source": [
    "df = pd.DataFrame(air_quality_2016)\n",
    "\n",
    "unique_art_der_station = df['Art der Station'].unique()\n",
    "unique_stationsumgebung = df['Stationsumgebung'].unique()\n",
    "\n",
    "# Schleife über eindeutige Werte in 'Art der Station'\n",
    "for art_der_station in unique_art_der_station:\n",
    "    # Eindeutige Werte in 'Stationsumgebung' für den aktuellen Wert in 'Art der Station' ermitteln\n",
    "    unique_stationsumgebung_for_art_der_station = df[df['Art der Station'] == art_der_station]['Stationsumgebung'].unique()\n",
    "    \n",
    "    # Ausgabe der Zusammenhänge\n",
    "    print(f\"Art der Station '{art_der_station}' ist verbunden mit Stationsumgebung(en): {', '.join(unique_stationsumgebung_for_art_der_station)}\")\n"
   ]
  },
  {
   "cell_type": "code",
   "execution_count": 5,
   "id": "8aab0687",
   "metadata": {},
   "outputs": [
    {
     "name": "stdout",
     "output_type": "stream",
     "text": [
      "Art der Station 'Hintergrund' ist verbunden mit Stationsumgebung(en): vorstädtisches Gebiet, städtisches Gebiet, ländlich regional, ländlich stadtnah, ländliches Gebiet, ländlich abgelegen\n",
      "Art der Station 'Industrie' ist verbunden mit Stationsumgebung(en): vorstädtisches Gebiet, ländlich regional, städtisches Gebiet, ländliches Gebiet, ländlich stadtnah\n",
      "Art der Station 'Verkehr' ist verbunden mit Stationsumgebung(en): städtisches Gebiet, vorstädtisches Gebiet, ländlich stadtnah\n"
     ]
    }
   ],
   "source": [
    "df = pd.DataFrame(air_quality_2017)\n",
    "\n",
    "unique_art_der_station = df['Art der Station'].unique()\n",
    "unique_stationsumgebung = df['Stationsumgebung'].unique()\n",
    "\n",
    "# Schleife über eindeutige Werte in 'Art der Station'\n",
    "for art_der_station in unique_art_der_station:\n",
    "    # Eindeutige Werte in 'Stationsumgebung' für den aktuellen Wert in 'Art der Station' ermitteln\n",
    "    unique_stationsumgebung_for_art_der_station = df[df['Art der Station'] == art_der_station]['Stationsumgebung'].unique()\n",
    "    \n",
    "    # Ausgabe der Zusammenhänge\n",
    "    print(f\"Art der Station '{art_der_station}' ist verbunden mit Stationsumgebung(en): {', '.join(unique_stationsumgebung_for_art_der_station)}\")\n"
   ]
  },
  {
   "cell_type": "code",
   "execution_count": 6,
   "id": "4012f785",
   "metadata": {},
   "outputs": [
    {
     "name": "stdout",
     "output_type": "stream",
     "text": [
      "Art der Station 'Hintergrund' ist verbunden mit Stationsumgebung(en): vorstädtisches Gebiet, städtisches Gebiet, ländlich regional, ländlich stadtnah, ländliches Gebiet, ländlich abgelegen\n",
      "Art der Station 'Industrie' ist verbunden mit Stationsumgebung(en): vorstädtisches Gebiet, ländlich regional, städtisches Gebiet, ländliches Gebiet, ländlich stadtnah\n",
      "Art der Station 'Verkehr' ist verbunden mit Stationsumgebung(en): städtisches Gebiet, vorstädtisches Gebiet, ländlich stadtnah\n"
     ]
    }
   ],
   "source": [
    "df = pd.DataFrame(air_quality_2018)\n",
    "\n",
    "unique_art_der_station = df['Art der Station'].unique()\n",
    "unique_stationsumgebung = df['Stationsumgebung'].unique()\n",
    "\n",
    "# Schleife über eindeutige Werte in 'Art der Station'\n",
    "for art_der_station in unique_art_der_station:\n",
    "    # Eindeutige Werte in 'Stationsumgebung' für den aktuellen Wert in 'Art der Station' ermitteln\n",
    "    unique_stationsumgebung_for_art_der_station = df[df['Art der Station'] == art_der_station]['Stationsumgebung'].unique()\n",
    "    \n",
    "    # Ausgabe der Zusammenhänge\n",
    "    print(f\"Art der Station '{art_der_station}' ist verbunden mit Stationsumgebung(en): {', '.join(unique_stationsumgebung_for_art_der_station)}\")\n"
   ]
  },
  {
   "cell_type": "code",
   "execution_count": 7,
   "id": "f9a0978f",
   "metadata": {},
   "outputs": [
    {
     "name": "stdout",
     "output_type": "stream",
     "text": [
      "Art der Station 'Hintergrund' ist verbunden mit Stationsumgebung(en): vorstädtisches Gebiet, städtisches Gebiet, ländlich regional, ländlich stadtnah, ländliches Gebiet, ländlich abgelegen\n",
      "Art der Station 'Industrie' ist verbunden mit Stationsumgebung(en): vorstädtisches Gebiet, ländlich regional, städtisches Gebiet, ländliches Gebiet, ländlich stadtnah\n",
      "Art der Station 'Verkehr' ist verbunden mit Stationsumgebung(en): städtisches Gebiet, vorstädtisches Gebiet, ländlich stadtnah\n"
     ]
    }
   ],
   "source": [
    "df = pd.DataFrame(air_quality_2019)\n",
    "\n",
    "unique_art_der_station = df['Art der Station'].unique()\n",
    "unique_stationsumgebung = df['Stationsumgebung'].unique()\n",
    "\n",
    "# Schleife über eindeutige Werte in 'Art der Station'\n",
    "for art_der_station in unique_art_der_station:\n",
    "    # Eindeutige Werte in 'Stationsumgebung' für den aktuellen Wert in 'Art der Station' ermitteln\n",
    "    unique_stationsumgebung_for_art_der_station = df[df['Art der Station'] == art_der_station]['Stationsumgebung'].unique()\n",
    "    \n",
    "    # Ausgabe der Zusammenhänge\n",
    "    print(f\"Art der Station '{art_der_station}' ist verbunden mit Stationsumgebung(en): {', '.join(unique_stationsumgebung_for_art_der_station)}\")\n"
   ]
  },
  {
   "cell_type": "code",
   "execution_count": 8,
   "id": "bc586c18",
   "metadata": {},
   "outputs": [
    {
     "name": "stdout",
     "output_type": "stream",
     "text": [
      "Art der Station 'Hintergrund' ist verbunden mit Stationsumgebung(en): vorstädtisches Gebiet, städtisches Gebiet, ländlich regional, ländlich stadtnah, ländliches Gebiet, ländlich abgelegen\n",
      "Art der Station 'Industrie' ist verbunden mit Stationsumgebung(en): vorstädtisches Gebiet, ländlich regional, städtisches Gebiet, ländliches Gebiet, ländlich stadtnah\n",
      "Art der Station 'Verkehr' ist verbunden mit Stationsumgebung(en): städtisches Gebiet, vorstädtisches Gebiet, ländlich stadtnah\n"
     ]
    }
   ],
   "source": [
    "df = pd.DataFrame(air_quality_2020)\n",
    "\n",
    "unique_art_der_station = df['Art der Station'].unique()\n",
    "unique_stationsumgebung = df['Stationsumgebung'].unique()\n",
    "\n",
    "# Schleife über eindeutige Werte in 'Art der Station'\n",
    "for art_der_station in unique_art_der_station:\n",
    "    # Eindeutige Werte in 'Stationsumgebung' für den aktuellen Wert in 'Art der Station' ermitteln\n",
    "    unique_stationsumgebung_for_art_der_station = df[df['Art der Station'] == art_der_station]['Stationsumgebung'].unique()\n",
    "    \n",
    "    # Ausgabe der Zusammenhänge\n",
    "    print(f\"Art der Station '{art_der_station}' ist verbunden mit Stationsumgebung(en): {', '.join(unique_stationsumgebung_for_art_der_station)}\")\n"
   ]
  },
  {
   "cell_type": "code",
   "execution_count": 9,
   "id": "bcc41f61",
   "metadata": {},
   "outputs": [
    {
     "name": "stdout",
     "output_type": "stream",
     "text": [
      "Art der Station 'Hintergrund' ist verbunden mit Stationsumgebung(en): vorstädtisches Gebiet, städtisches Gebiet, ländlich regional, ländlich stadtnah, ländliches Gebiet, ländlich abgelegen\n",
      "Art der Station 'Industrie' ist verbunden mit Stationsumgebung(en): vorstädtisches Gebiet, ländlich regional, städtisches Gebiet, ländliches Gebiet, ländlich stadtnah\n",
      "Art der Station 'Verkehr' ist verbunden mit Stationsumgebung(en): städtisches Gebiet, vorstädtisches Gebiet, ländlich stadtnah\n"
     ]
    }
   ],
   "source": [
    "df = pd.DataFrame(air_quality_2021)\n",
    "\n",
    "unique_art_der_station = df['Art der Station'].unique()\n",
    "unique_stationsumgebung = df['Stationsumgebung'].unique()\n",
    "\n",
    "# Schleife über eindeutige Werte in 'Art der Station'\n",
    "for art_der_station in unique_art_der_station:\n",
    "    # Eindeutige Werte in 'Stationsumgebung' für den aktuellen Wert in 'Art der Station' ermitteln\n",
    "    unique_stationsumgebung_for_art_der_station = df[df['Art der Station'] == art_der_station]['Stationsumgebung'].unique()\n",
    "    \n",
    "    # Ausgabe der Zusammenhänge\n",
    "    print(f\"Art der Station '{art_der_station}' ist verbunden mit Stationsumgebung(en): {', '.join(unique_stationsumgebung_for_art_der_station)}\")\n"
   ]
  },
  {
   "cell_type": "code",
   "execution_count": 10,
   "id": "53573410",
   "metadata": {},
   "outputs": [
    {
     "name": "stdout",
     "output_type": "stream",
     "text": [
      "Art der Station 'Hintergrund' ist verbunden mit Stationsumgebung(en): städtisches Gebiet, vorstädtisches Gebiet, ländlich regional, ländlich stadtnah, ländliches Gebiet, ländlich abgelegen\n",
      "Art der Station 'Industrie' ist verbunden mit Stationsumgebung(en): vorstädtisches Gebiet, ländlich regional, städtisches Gebiet, ländliches Gebiet, ländlich stadtnah\n",
      "Art der Station 'Verkehr' ist verbunden mit Stationsumgebung(en): städtisches Gebiet, vorstädtisches Gebiet, ländlich stadtnah\n"
     ]
    }
   ],
   "source": [
    "df = pd.DataFrame(air_quality_2022)\n",
    "\n",
    "unique_art_der_station = df['Art der Station'].unique()\n",
    "unique_stationsumgebung = df['Stationsumgebung'].unique()\n",
    "\n",
    "# Schleife über eindeutige Werte in 'Art der Station'\n",
    "for art_der_station in unique_art_der_station:\n",
    "    # Eindeutige Werte in 'Stationsumgebung' für den aktuellen Wert in 'Art der Station' ermitteln\n",
    "    unique_stationsumgebung_for_art_der_station = df[df['Art der Station'] == art_der_station]['Stationsumgebung'].unique()\n",
    "    \n",
    "    # Ausgabe der Zusammenhänge\n",
    "    print(f\"Art der Station '{art_der_station}' ist verbunden mit Stationsumgebung(en): {', '.join(unique_stationsumgebung_for_art_der_station)}\")\n"
   ]
  },
  {
   "cell_type": "code",
   "execution_count": 11,
   "id": "61c6a682-87a2-4de9-b073-4a5c16b25dd2",
   "metadata": {},
   "outputs": [],
   "source": [
    "# Combine to one Dataset\n",
    "\n",
    "air_quality_complete = pd.concat([air_quality_2016, air_quality_2017, air_quality_2018, air_quality_2019, air_quality_2020, air_quality_2021, air_quality_2022], axis=0)\n",
    "\n",
    "# Cleanup\n",
    "\n",
    "del air_quality_2016\n",
    "del air_quality_2017\n",
    "del air_quality_2018\n",
    "del air_quality_2019\n",
    "del air_quality_2020\n",
    "del air_quality_2021\n",
    "del air_quality_2022"
   ]
  },
  {
   "cell_type": "code",
   "execution_count": 12,
   "id": "215775cd-b9f4-4b86-92dd-c2f1adaf19c1",
   "metadata": {},
   "outputs": [],
   "source": [
    "# Remove unnecessary Coloums\n",
    "\n",
    "air_quality_complete.drop(columns=[\"Stationsname\",\"Schadstoff\", \"Uhrzeit\", \"Art der Auswertung\", \"Einheit\"], inplace=True)"
   ]
  },
  {
   "cell_type": "code",
   "execution_count": 13,
   "id": "9b640132",
   "metadata": {},
   "outputs": [],
   "source": [
    "# Rename Columns\n",
    "\n",
    "air_quality_complete.rename({\"Bundesland / Messnetz\": \"Bundesland\"}, axis=1, inplace=True)  "
   ]
  },
  {
   "cell_type": "code",
   "execution_count": 14,
   "id": "f6a7e015-77c3-4111-9457-49ef96700066",
   "metadata": {
    "tags": []
   },
   "outputs": [],
   "source": [
    "# Convert Coloums to concrete Datatypes\n",
    "\n",
    "air_quality_complete[\"Bundesland\"] = air_quality_complete[\"Bundesland\"].astype(\"string\") \n",
    "air_quality_complete[\"Stationscode\"] = air_quality_complete[\"Stationscode\"].astype(\"string\") \n",
    "air_quality_complete[\"Stationsumgebung\"] = air_quality_complete[\"Stationsumgebung\"].astype(\"string\") \n",
    "air_quality_complete[\"Art der Station\"] = air_quality_complete[\"Art der Station\"].astype(\"string\") \n",
    "air_quality_complete[\"Datum\"] = pd.to_datetime(air_quality_complete[\"Datum\"], format=\"%d.%m.%Y\")\n",
    "air_quality_complete[\"Messwert\"] = pd.to_numeric(air_quality_complete[\"Messwert\"], errors=\"coerce\").astype(\"Int64\")"
   ]
  },
  {
   "cell_type": "code",
   "execution_count": 15,
   "id": "19181c2e",
   "metadata": {},
   "outputs": [],
   "source": [
    "# Remove Data\n",
    "\n",
    "air_quality_complete = air_quality_complete[~air_quality_complete[\"Bundesland\"].isin([\"UBA\"])]"
   ]
  },
  {
   "cell_type": "code",
   "execution_count": 16,
   "id": "1a061c08",
   "metadata": {},
   "outputs": [],
   "source": [
    "# Reduce \"ländlich\"-records of the field \"Stationsumgebung\" to only containing \"ländliches Gebiet\"\n",
    "\n",
    "replacements = { \"ländlich regional\": \"ländliches Gebiet\",\n",
    "                \"ländlich stadtnah\": \"ländliches Gebiet\",\n",
    "                \"ländlich abgelegen\": \"ländliches Gebiet\", }\n",
    "\n",
    "air_quality_complete.replace(replacements, inplace=True)"
   ]
  },
  {
   "cell_type": "code",
   "execution_count": 17,
   "id": "eeeb839e",
   "metadata": {},
   "outputs": [],
   "source": [
    "# Create Output Folder for PM10 if not allready present\n",
    "\n",
    "import os\n",
    "\n",
    "output_path = \"../Data/Output/PM10\"\n",
    "\n",
    "if not os.path.exists(output_path):\n",
    "   os.makedirs(output_path)\n",
    "\n",
    "# Save Dataset to Disk\n",
    "\n",
    "air_quality_complete.to_csv(output_path + \"/2016-01-01-2022-12-31.csv\", index=False)"
   ]
  },
  {
   "cell_type": "code",
   "execution_count": 18,
   "id": "99655408-73df-4c16-a9a5-18873c06134d",
   "metadata": {},
   "outputs": [],
   "source": [
    "# Example to Load the Data with the concrete Datatypes\n",
    "\n",
    "air_quality_test = pd.read_csv(output_path + \"/2016-01-01-2022-12-31.csv\",\n",
    "                                parse_dates = [\"Datum\"],\n",
    "                                dtype = {\"Bundesland\": \"string\",\n",
    "                                        \"Stationscode\": \"string\",\n",
    "                                        \"Stationsumgebung\": \"string\",\n",
    "                                        \"Art der Station\": \"string\",\n",
    "                                        \"Messwert\": \"Int64\"})"
   ]
  },
  {
   "cell_type": "code",
   "execution_count": 19,
   "id": "763685ca",
   "metadata": {},
   "outputs": [
    {
     "data": {
      "text/html": [
       "<div>\n",
       "<style scoped>\n",
       "    .dataframe tbody tr th:only-of-type {\n",
       "        vertical-align: middle;\n",
       "    }\n",
       "\n",
       "    .dataframe tbody tr th {\n",
       "        vertical-align: top;\n",
       "    }\n",
       "\n",
       "    .dataframe thead th {\n",
       "        text-align: right;\n",
       "    }\n",
       "</style>\n",
       "<table border=\"1\" class=\"dataframe\">\n",
       "  <thead>\n",
       "    <tr style=\"text-align: right;\">\n",
       "      <th></th>\n",
       "      <th>Bundesland</th>\n",
       "      <th>Stationscode</th>\n",
       "      <th>Stationsumgebung</th>\n",
       "      <th>Art der Station</th>\n",
       "      <th>Datum</th>\n",
       "      <th>Messwert</th>\n",
       "    </tr>\n",
       "  </thead>\n",
       "  <tbody>\n",
       "    <tr>\n",
       "      <th>0</th>\n",
       "      <td>Brandenburg</td>\n",
       "      <td>DEBB007</td>\n",
       "      <td>vorstädtisches Gebiet</td>\n",
       "      <td>Hintergrund</td>\n",
       "      <td>2016-01-01</td>\n",
       "      <td>31</td>\n",
       "    </tr>\n",
       "    <tr>\n",
       "      <th>1</th>\n",
       "      <td>Brandenburg</td>\n",
       "      <td>DEBB007</td>\n",
       "      <td>vorstädtisches Gebiet</td>\n",
       "      <td>Hintergrund</td>\n",
       "      <td>2016-01-02</td>\n",
       "      <td>39</td>\n",
       "    </tr>\n",
       "    <tr>\n",
       "      <th>2</th>\n",
       "      <td>Brandenburg</td>\n",
       "      <td>DEBB007</td>\n",
       "      <td>vorstädtisches Gebiet</td>\n",
       "      <td>Hintergrund</td>\n",
       "      <td>2016-01-03</td>\n",
       "      <td>51</td>\n",
       "    </tr>\n",
       "    <tr>\n",
       "      <th>3</th>\n",
       "      <td>Brandenburg</td>\n",
       "      <td>DEBB007</td>\n",
       "      <td>vorstädtisches Gebiet</td>\n",
       "      <td>Hintergrund</td>\n",
       "      <td>2016-01-04</td>\n",
       "      <td>56</td>\n",
       "    </tr>\n",
       "    <tr>\n",
       "      <th>4</th>\n",
       "      <td>Brandenburg</td>\n",
       "      <td>DEBB007</td>\n",
       "      <td>vorstädtisches Gebiet</td>\n",
       "      <td>Hintergrund</td>\n",
       "      <td>2016-01-05</td>\n",
       "      <td>75</td>\n",
       "    </tr>\n",
       "    <tr>\n",
       "      <th>...</th>\n",
       "      <td>...</td>\n",
       "      <td>...</td>\n",
       "      <td>...</td>\n",
       "      <td>...</td>\n",
       "      <td>...</td>\n",
       "      <td>...</td>\n",
       "    </tr>\n",
       "    <tr>\n",
       "      <th>951349</th>\n",
       "      <td>Nordrhein-Westfalen</td>\n",
       "      <td>DENW430</td>\n",
       "      <td>städtisches Gebiet</td>\n",
       "      <td>Verkehr</td>\n",
       "      <td>2022-12-27</td>\n",
       "      <td>10</td>\n",
       "    </tr>\n",
       "    <tr>\n",
       "      <th>951350</th>\n",
       "      <td>Nordrhein-Westfalen</td>\n",
       "      <td>DENW430</td>\n",
       "      <td>städtisches Gebiet</td>\n",
       "      <td>Verkehr</td>\n",
       "      <td>2022-12-28</td>\n",
       "      <td>5</td>\n",
       "    </tr>\n",
       "    <tr>\n",
       "      <th>951351</th>\n",
       "      <td>Nordrhein-Westfalen</td>\n",
       "      <td>DENW430</td>\n",
       "      <td>städtisches Gebiet</td>\n",
       "      <td>Verkehr</td>\n",
       "      <td>2022-12-29</td>\n",
       "      <td>8</td>\n",
       "    </tr>\n",
       "    <tr>\n",
       "      <th>951352</th>\n",
       "      <td>Nordrhein-Westfalen</td>\n",
       "      <td>DENW430</td>\n",
       "      <td>städtisches Gebiet</td>\n",
       "      <td>Verkehr</td>\n",
       "      <td>2022-12-30</td>\n",
       "      <td>7</td>\n",
       "    </tr>\n",
       "    <tr>\n",
       "      <th>951353</th>\n",
       "      <td>Nordrhein-Westfalen</td>\n",
       "      <td>DENW430</td>\n",
       "      <td>städtisches Gebiet</td>\n",
       "      <td>Verkehr</td>\n",
       "      <td>2022-12-31</td>\n",
       "      <td>8</td>\n",
       "    </tr>\n",
       "  </tbody>\n",
       "</table>\n",
       "<p>951354 rows × 6 columns</p>\n",
       "</div>"
      ],
      "text/plain": [
       "                 Bundesland Stationscode       Stationsumgebung  \\\n",
       "0               Brandenburg      DEBB007  vorstädtisches Gebiet   \n",
       "1               Brandenburg      DEBB007  vorstädtisches Gebiet   \n",
       "2               Brandenburg      DEBB007  vorstädtisches Gebiet   \n",
       "3               Brandenburg      DEBB007  vorstädtisches Gebiet   \n",
       "4               Brandenburg      DEBB007  vorstädtisches Gebiet   \n",
       "...                     ...          ...                    ...   \n",
       "951349  Nordrhein-Westfalen      DENW430     städtisches Gebiet   \n",
       "951350  Nordrhein-Westfalen      DENW430     städtisches Gebiet   \n",
       "951351  Nordrhein-Westfalen      DENW430     städtisches Gebiet   \n",
       "951352  Nordrhein-Westfalen      DENW430     städtisches Gebiet   \n",
       "951353  Nordrhein-Westfalen      DENW430     städtisches Gebiet   \n",
       "\n",
       "       Art der Station      Datum  Messwert  \n",
       "0          Hintergrund 2016-01-01        31  \n",
       "1          Hintergrund 2016-01-02        39  \n",
       "2          Hintergrund 2016-01-03        51  \n",
       "3          Hintergrund 2016-01-04        56  \n",
       "4          Hintergrund 2016-01-05        75  \n",
       "...                ...        ...       ...  \n",
       "951349         Verkehr 2022-12-27        10  \n",
       "951350         Verkehr 2022-12-28         5  \n",
       "951351         Verkehr 2022-12-29         8  \n",
       "951352         Verkehr 2022-12-30         7  \n",
       "951353         Verkehr 2022-12-31         8  \n",
       "\n",
       "[951354 rows x 6 columns]"
      ]
     },
     "execution_count": 19,
     "metadata": {},
     "output_type": "execute_result"
    }
   ],
   "source": [
    "air_quality_test"
   ]
  },
  {
   "cell_type": "code",
   "execution_count": 20,
   "id": "1e4077d1",
   "metadata": {},
   "outputs": [
    {
     "data": {
      "text/plain": [
       "<Axes: >"
      ]
     },
     "execution_count": 20,
     "metadata": {},
     "output_type": "execute_result"
    },
    {
     "data": {
      "image/png": "[encoded data removed]",
      "text/plain": [
       "<Figure size 2000x1000 with 1 Axes>"
      ]
     },
     "metadata": {},
     "output_type": "display_data"
    }
   ],
   "source": [
    "air_quality_test[\"Bundesland\"].value_counts().plot.bar(figsize=(20, 10))"
   ]
  },
  {
   "cell_type": "code",
   "execution_count": 21,
   "id": "c75a6ff4",
   "metadata": {},
   "outputs": [
    {
     "name": "stdout",
     "output_type": "stream",
     "text": [
      "Art der Station 'Hintergrund' ist verbunden mit Stationsumgebung(en): vorstädtisches Gebiet, städtisches Gebiet, ländliches Gebiet\n",
      "Art der Station 'Industrie' ist verbunden mit Stationsumgebung(en): vorstädtisches Gebiet, ländliches Gebiet, städtisches Gebiet\n",
      "Art der Station 'Verkehr' ist verbunden mit Stationsumgebung(en): städtisches Gebiet, vorstädtisches Gebiet, ländliches Gebiet\n"
     ]
    }
   ],
   "source": [
    "df = pd.DataFrame(air_quality_complete)\n",
    "\n",
    "unique_art_der_station = df['Art der Station'].unique()\n",
    "unique_stationsumgebung = df['Stationsumgebung'].unique()\n",
    "\n",
    "# Schleife über eindeutige Werte in 'Art der Station'\n",
    "for art_der_station in unique_art_der_station:\n",
    "    # Eindeutige Werte in 'Stationsumgebung' für den aktuellen Wert in 'Art der Station' ermitteln\n",
    "    unique_stationsumgebung_for_art_der_station = df[df['Art der Station'] == art_der_station]['Stationsumgebung'].unique()\n",
    "    \n",
    "    # Ausgabe der Zusammenhänge\n",
    "    print(f\"Art der Station '{art_der_station}' ist verbunden mit Stationsumgebung(en): {', '.join(unique_stationsumgebung_for_art_der_station)}\")\n"
   ]
  },
  {
   "cell_type": "code",
   "execution_count": null,
   "id": "e36cfa42",
   "metadata": {},
   "outputs": [],
   "source": []
  },
  {
   "cell_type": "code",
   "execution_count": null,
   "id": "5d13d513",
   "metadata": {},
   "outputs": [],
   "source": []
  }
 ],
 "metadata": {
  "kernelspec": {
   "display_name": "Python 3 (ipykernel)",
   "language": "python",
   "name": "python3"
  },
  "language_info": {
   "codemirror_mode": {
    "name": "ipython",
    "version": 3
   },
   "file_extension": ".py",
   "mimetype": "text/x-python",
   "name": "python",
   "nbconvert_exporter": "python",
   "pygments_lexer": "ipython3",
   "version": "3.10.9"
  }
 },
 "nbformat": 4,
 "nbformat_minor": 5
}
