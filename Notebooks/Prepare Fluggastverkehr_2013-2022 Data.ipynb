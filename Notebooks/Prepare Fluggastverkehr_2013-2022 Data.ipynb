{
 "cells": [
  {
   "cell_type": "code",
   "execution_count": null,
   "id": "2237b2fe",
   "metadata": {},
   "outputs": [],
   "source": [
    "import pandas as pd"
   ]
  },
  {
   "cell_type": "code",
   "execution_count": null,
   "id": "87251342",
   "metadata": {
    "scrolled": true
   },
   "outputs": [],
   "source": [
    "df = pd.read_excel('../Data/Raw/Fluggastverkehr/avia_paincc_page_spreadsheet.xlsx', sheet_name='Blatt 1', skiprows=9, usecols='A:K')"
   ]
  },
  {
   "cell_type": "code",
   "execution_count": null,
   "id": "f2a8b065",
   "metadata": {},
   "outputs": [],
   "source": [
    "df_ready = df[0:3]"
   ]
  },
  {
   "cell_type": "code",
   "execution_count": null,
   "id": "248159be",
   "metadata": {},
   "outputs": [],
   "source": [
    "df_ready = df_ready.drop(index=0)\n",
    "df_ready = df_ready.drop(index=2)"
   ]
  },
  {
   "cell_type": "code",
   "execution_count": null,
   "id": "b539838f",
   "metadata": {},
   "outputs": [],
   "source": [
    "# Create Output Folder for \"Fluggastverkehr\" if not allready present\n",
    "\n",
    "import os\n",
    "\n",
    "output_path = \"../Data/Output/Fluggastverkehr\"\n",
    "\n",
    "if not os.path.exists(output_path):\n",
    "   os.makedirs(output_path)\n",
    "\n",
    "# Save Dataset to Disk\n",
    "\n",
    "df_ready.to_csv(output_path + \"/complete.csv\", index=False)"
   ]
  }
 ],
 "metadata": {
  "kernelspec": {
   "display_name": "Python 3 (ipykernel)",
   "language": "python",
   "name": "python3"
  },
  "language_info": {
   "codemirror_mode": {
    "name": "ipython",
    "version": 3
   },
   "file_extension": ".py",
   "mimetype": "text/x-python",
   "name": "python",
   "nbconvert_exporter": "python",
   "pygments_lexer": "ipython3",
   "version": "3.10.11"
  }
 },
 "nbformat": 4,
 "nbformat_minor": 5
}
