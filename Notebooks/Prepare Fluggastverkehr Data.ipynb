import pandas as pd
df = pd.read_excel('../Data/Raw/Fluggastverkehr/avia_paincc_page_spreadsheet.xlsx')
type(df)
df
