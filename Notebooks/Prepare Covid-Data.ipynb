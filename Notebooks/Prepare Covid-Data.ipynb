{
 "cells": [
  {
   "cell_type": "code",
   "execution_count": 1,
   "metadata": {},
   "outputs": [],
   "source": [
    "import pandas as pd"
   ]
  },
  {
   "cell_type": "code",
   "execution_count": 2,
   "metadata": {},
   "outputs": [],
   "source": [
    "# Load Data from Disk\n",
    "\n",
    "# Geographical Data\n",
    "states_option = pd.read_excel(\"../Data/Raw/Geographic/AuszugGV2QAktuell.xlsx\", sheet_name = \"Onlineprodukt_Gemeinden\")\n",
    "\n",
    "# Covid Data\n",
    "covid = pd.read_csv(\"../Data/Raw/Covid/Aktuell_Deutschland_SarsCov2_Infektionen.csv\")"
   ]
  },
  {
   "cell_type": "code",
   "execution_count": 3,
   "metadata": {},
   "outputs": [],
   "source": [
    "# Reduce Geographical Data\n",
    "\n",
    "# Remove unnecessary Coloums\n",
    "states_option = states_option.iloc[:,[2, 3, 4, 7]]\n",
    "\n",
    "# Filter so only Lands will be left\n",
    "states_option = states_option.loc[lambda df: df.iloc[:, [0]].notna().any(axis=1)\n",
    "                                            & df.iloc[:, [1]].isna().any(axis=1)\n",
    "                                            & df.iloc[:, [2]].isna().any(axis=1) \n",
    "                                            & df.iloc[:, [3]].notna().any(axis=1), :]\n",
    "\n",
    "# Remove Header without Value\n",
    "states_option.drop(states_option.head(1).index, inplace=True)\n",
    "\n",
    "# Remove unnecessary Coloums so only ID and federal state are left\n",
    "states_option = states_option.iloc[:,[0, 3]]\n",
    "\n",
    "# Give Coloums Names\n",
    "states_option.columns.values[0] = \"Id\"\n",
    "states_option.columns.values[1] = \"Bundesland\"\n",
    "\n",
    "# Define id values as Integer\n",
    "states_option[\"Id\"] = states_option[\"Id\"].astype(\"Int64\")\n",
    "\n",
    "# Convert to a Dictionary of federal states (id -> state)\n",
    "states_dictionary = states_option.set_index(\"Id\").to_dict(\"dict\")[\"Bundesland\"]\n",
    "\n",
    "# Cleanup\n",
    "del states_option"
   ]
  },
  {
   "cell_type": "code",
   "execution_count": 4,
   "metadata": {},
   "outputs": [],
   "source": [
    "# Declare Function to reduce the IdLandkreis to its Land-Value\n",
    "\n",
    "def reduce_id_landkreis(id):\n",
    "  result = id[::-1]                                             # Reverse so that only the Land is on the right\n",
    "  result = [(result[i:i+3]) for i in range(0, len(result), 3)]  # Split the input groups of 3\n",
    "  result = result[1]                                            # Tage the second group with the Land as contend\n",
    "  result = result[::-1]                                         # Reverse the Land value again to get the original\n",
    "\n",
    "  return result"
   ]
  },
  {
   "cell_type": "code",
   "execution_count": 5,
   "metadata": {},
   "outputs": [],
   "source": [
    "# Remove unnecessary Coloums\n",
    "\n",
    "covid.drop(columns=[\"Altersgruppe\", \"Geschlecht\", \"IstErkrankungsbeginn\", \"NeuerFall\", \"NeuerTodesfall\", \"NeuGenesen\"], inplace=True)"
   ]
  },
  {
   "cell_type": "code",
   "execution_count": 6,
   "metadata": {},
   "outputs": [],
   "source": [
    "# Map IdLandkreis to its written federal state name\n",
    "\n",
    "covid[\"IdLandkreis\"] = covid[\"IdLandkreis\"].astype(\"string\").map(reduce_id_landkreis).astype(\"Int64\").map(states_dictionary)"
   ]
  },
  {
   "cell_type": "code",
   "execution_count": 7,
   "metadata": {},
   "outputs": [],
   "source": [
    "# Aggregate data of all dates and federal states to get a sum of infections for each date\n",
    "\n",
    "# Empty dictionary to hold the data\n",
    "grouped_data_reportingdate = dict()\n",
    "grouped_data_refdate = dict()\n",
    "grouped_data_complete = dict()\n",
    "\n",
    "group_by_federalstates = covid.groupby([\"IdLandkreis\"], group_keys=True)\n",
    "\n",
    "# Aggregate each federal state once with the reportingdate and refdate\n",
    "for key in group_by_federalstates.groups:\n",
    "    group_of_federalstate = group_by_federalstates.get_group(key)\n",
    "\n",
    "    group_by_federalstate_and_reportingdate = group_of_federalstate.groupby([\"Meldedatum\"], group_keys=True).agg({\"IdLandkreis\": \"first\", \"Meldedatum\": \"first\", \"AnzahlFall\": sum, \"AnzahlTodesfall\": sum, \"AnzahlGenesen\": sum})\n",
    "    result_one_key = key + \"_Meldedatum\"\n",
    "    grouped_data_reportingdate[result_one_key] = group_by_federalstate_and_reportingdate\n",
    "    \n",
    "    group_by_federalstate_and_refdate = group_of_federalstate.groupby([\"Refdatum\"], group_keys=True).agg({\"IdLandkreis\": \"first\", \"Refdatum\": \"first\", \"AnzahlFall\": sum, \"AnzahlTodesfall\": sum, \"AnzahlGenesen\": sum})\n",
    "    result_two_key = key + \"_Refdatum\"\n",
    "    grouped_data_refdate[result_two_key] = group_by_federalstate_and_refdate\n",
    "\n",
    "# Create one entry each for the reportingdate and refdate holding all federal states inside \n",
    "grouped_data_reportingdate[\"Deutschland_Meldedatum\"] = pd.concat(grouped_data_reportingdate.values(), axis=0)\n",
    "grouped_data_refdate[\"Deutschland_Refdatum\"] = pd.concat(grouped_data_refdate.values(), axis=0)\n",
    "\n",
    "# Fill the complete dictionary with all values\n",
    "grouped_data_complete.update(grouped_data_reportingdate)\n",
    "grouped_data_complete.update(grouped_data_refdate)\n",
    "\n",
    "# Cleanup\n",
    "del grouped_data_reportingdate\n",
    "del grouped_data_refdate\n",
    "del result_one_key\n",
    "del result_two_key\n",
    "del key\n",
    "del group_of_federalstate\n",
    "del group_by_federalstates\n",
    "del group_by_federalstate_and_reportingdate\n",
    "del group_by_federalstate_and_refdate"
   ]
  },
  {
   "cell_type": "code",
   "execution_count": 8,
   "metadata": {},
   "outputs": [],
   "source": [
    "# Normalize header names \n",
    "\n",
    "for key in grouped_data_complete:\n",
    "    grouped_data_complete[key].columns.values[0] = \"Bundesland\""
   ]
  },
  {
   "cell_type": "code",
   "execution_count": 9,
   "metadata": {},
   "outputs": [],
   "source": [
    "# Create Output Folder for Covid if not allready present\n",
    "\n",
    "import os\n",
    "\n",
    "output_path = \"../Data/Output/Covid\"\n",
    "\n",
    "if not os.path.exists(output_path):\n",
    "   os.makedirs(output_path)\n",
    "\n",
    "# Save Dataset to Disk\n",
    "\n",
    "grouped_data_complete[\"Deutschland_Meldedatum\"].to_csv(output_path + \"/Deutschland_Meldedatum.csv\", index=False)\n",
    "grouped_data_complete[\"Deutschland_Refdatum\"].to_csv(output_path + \"/Deutschland_Refdatum.csv\", index=False)\n",
    "\n",
    "\n",
    "# If you want all Data as seperated csv-files uncomment the code below\n",
    "\n",
    "# for key in grouped_data_complete:\n",
    "#     grouped_data_complete[key].to_csv(output_path + \"/\" + key + \".csv\", index=False)"
   ]
  },
  {
   "cell_type": "code",
   "execution_count": 10,
   "metadata": {},
   "outputs": [],
   "source": [
    "# Example to Load the Data with the concrete Datatypes\n",
    "\n",
    "covid_reportingdate_test = pd.read_csv(output_path + \"/Deutschland_Meldedatum.csv\",\n",
    "                                        parse_dates = [\"Meldedatum\"],\n",
    "                                        dtype = {\"Bundesland\": \"string\",\n",
    "                                                \"AnzahlFall\": \"Int64\",\n",
    "                                                \"AnzahlTodesfall\": \"Int64\",\n",
    "                                                \"AnzahlGenesen\": \"Int64\"})\n",
    "\n",
    "covid_refdate_test = pd.read_csv(output_path + \"/Deutschland_Refdatum.csv\", \n",
    "                                        parse_dates = [\"Refdatum\"], \n",
    "                                        dtype = {\"Bundesland\": \"string\",\n",
    "                                                \"AnzahlFall\": \"Int64\",\n",
    "                                                \"AnzahlTodesfall\": \"Int64\",\n",
    "                                                \"AnzahlGenesen\": \"Int64\"})"
   ]
  }
 ],
 "metadata": {
  "kernelspec": {
   "display_name": "datascience",
   "language": "python",
   "name": "python3"
  },
  "language_info": {
   "codemirror_mode": {
    "name": "ipython",
    "version": 3
   },
   "file_extension": ".py",
   "mimetype": "text/x-python",
   "name": "python",
   "nbconvert_exporter": "python",
   "pygments_lexer": "ipython3",
   "version": "3.10.11"
  },
  "orig_nbformat": 4
 },
 "nbformat": 4,
 "nbformat_minor": 2
}
