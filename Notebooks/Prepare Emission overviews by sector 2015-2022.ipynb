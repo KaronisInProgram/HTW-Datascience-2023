{
 "cells": [
  {
   "cell_type": "code",
   "execution_count": 1,
   "id": "982a1826-0490-4e18-ad6e-7c66140d876d",
   "metadata": {},
   "outputs": [],
   "source": [
    "import pandas as pd"
   ]
  },
  {
   "cell_type": "code",
   "execution_count": 2,
   "id": "1cf8330b-adf0-4914-b45b-e117847d856b",
   "metadata": {},
   "outputs": [],
   "source": [
    "# Load Data from Disk\n",
    "\n",
    "emission_by_sector = pd.read_csv(\"../Data/Raw/Emission-overview-by-sector-2015-2022/Emission-overviews-by-sector-in-Germany-2015-2022.csv\")"
   ]
  },
  {
   "cell_type": "code",
   "execution_count": 3,
   "id": "e62364b4-b244-424b-bb33-aeb7bf092962",
   "metadata": {},
   "outputs": [],
   "source": []
  },
  {
   "cell_type": "code",
   "execution_count": 4,
   "id": "4aa9807e",
   "metadata": {},
   "outputs": [],
   "source": [
    "# Convert Columns to concrete Datatypes\n",
    "\n",
     "column = [\"Sektor\",\n",
    "emission_by_sector[column] = emission_by_sector[column].astype(\"object\")"
    "columns = [\"2015\",\n",
    "           \"2016\",\n",
    "           \"2017\",\n",
    "           \"2018\",\n",
    "           \"2019\",\n",
    "           \"2020\",\n",
    "           \"2021\",\n",
    "           \"2022\",\n",
    "\n",
    "emission_by_sector[columns] = emission_by_sector[columns].astype(\"int64\")"
   ]
  },
  {
   "cell_type": "code",
   "execution_count": 5,
   "id": "648ffc36",
   "metadata": {},
   "outputs": [],
   "source": []
  },
  {
   "cell_type": "code",
   "execution_count": 6,
   "id": "a8924103",
   "metadata": {},
   "outputs": [],
   "source": [
    "# Create Output Folder for Emission-by-sector if not allready present\n",
    "\n",
    "import os\n",
    "\n",
    "output_path = \"../Data/Output/Emission-by-sector\"\n",
    "\n",
    "if not os.path.exists(output_path):\n",
    "   os.makedirs(output_path)\n",
    "\n",
    "# Save Dataset to Disk\n",
    "\n",
    "emission_by_sector.to_csv(output_path + \"/Emission overviews by sector in Germany 2015-2022.csv\", index=False)"
   ]
  },
  {
   "cell_type": "code",
   "execution_count": 8,
   "id": "355f13a0",
   "metadata": {},
   "outputs": [],
   "source": [
    "# Example to Load the Data\n",
    "\n",
    "emission_by_sector_test = pd.read_csv(output_path + \"/Emission overviews by sector in Germany 2015-2022.csv\", \n",
    "                                        parse_dates = [\"Datum\"])"
   ]
  }
 ],
 "metadata": {
  "kernelspec": {
   "display_name": "Python 3 (ipykernel)",
   "language": "python",
   "name": "python3"
  },
  "language_info": {
   "codemirror_mode": {
    "name": "ipython",
    "version": 3
   },
   "file_extension": ".py",
   "mimetype": "text/x-python",
   "name": "python",
   "nbconvert_exporter": "python",
   "pygments_lexer": "ipython3",
   "version": "3.10.11"
  }
 },
 "nbformat": 4,
 "nbformat_minor": 5
}
