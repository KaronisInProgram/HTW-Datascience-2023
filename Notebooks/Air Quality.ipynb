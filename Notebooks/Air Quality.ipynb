{
 "cells": [
  {
   "cell_type": "code",
   "execution_count": 1,
   "id": "982a1826-0490-4e18-ad6e-7c66140d876d",
   "metadata": {},
   "outputs": [],
   "source": [
    "import pandas as pd"
   ]
  },
  {
   "cell_type": "code",
   "execution_count": 2,
   "id": "1cf8330b-adf0-4914-b45b-e117847d856b",
   "metadata": {},
   "outputs": [],
   "source": [
    "# Load Data from Disk\n",
    "\n",
    "air_quality_2016 = pd.read_csv(\"../Data/Raw/PM10/2016-01-01-2016-12-31.csv\", sep = \";\")\n",
    "air_quality_2017 = pd.read_csv(\"../Data/Raw/PM10/2017-01-01-2017-12-31.csv\", sep = \";\")\n",
    "air_quality_2018 = pd.read_csv(\"../Data/Raw/PM10/2018-01-01-2018-12-31.csv\", sep = \";\")\n",
    "air_quality_2019 = pd.read_csv(\"../Data/Raw/PM10/2019-01-01-2019-12-31.csv\", sep = \";\")\n",
    "air_quality_2020 = pd.read_csv(\"../Data/Raw/PM10/2020-01-01-2020-12-31.csv\", sep = \";\")\n",
    "air_quality_2021 = pd.read_csv(\"../Data/Raw/PM10/2021-01-01-2021-12-31.csv\", sep = \";\")\n",
    "air_quality_2022 = pd.read_csv(\"../Data/Raw/PM10/2022-01-01-2022-12-31.csv\", sep = \";\")\n",
    "air_quality_2023 = pd.read_csv(\"../Data/Raw/PM10/2023-01-01-2023-03-01.csv\", sep = \";\")"
   ]
  },
  {
   "cell_type": "code",
   "execution_count": 3,
   "id": "e62364b4-b244-424b-bb33-aeb7bf092962",
   "metadata": {},
   "outputs": [],
   "source": [
    "# Remove source on all split Datasets\n",
    "\n",
    "air_quality_2016.drop(air_quality_2016.tail(1).index, inplace=True)\n",
    "air_quality_2017.drop(air_quality_2017.tail(1).index, inplace=True)\n",
    "air_quality_2018.drop(air_quality_2018.tail(1).index, inplace=True)\n",
    "air_quality_2019.drop(air_quality_2019.tail(1).index, inplace=True)\n",
    "air_quality_2020.drop(air_quality_2020.tail(1).index, inplace=True)\n",
    "air_quality_2021.drop(air_quality_2021.tail(1).index, inplace=True)\n",
    "air_quality_2022.drop(air_quality_2022.tail(1).index, inplace=True)\n",
    "air_quality_2023.drop(air_quality_2023.tail(1).index, inplace=True)"
   ]
  },
  {
   "cell_type": "code",
   "execution_count": 4,
   "id": "61c6a682-87a2-4de9-b073-4a5c16b25dd2",
   "metadata": {},
   "outputs": [],
   "source": [
    "# Combine to one Dataset\n",
    "\n",
    "air_quality_complete = pd.concat([air_quality_2016, air_quality_2017, air_quality_2018, air_quality_2019, air_quality_2020, air_quality_2021, air_quality_2022, air_quality_2023], axis=0)\n",
    "\n",
    "# Cleanup\n",
    "\n",
    "del air_quality_2016\n",
    "del air_quality_2017\n",
    "del air_quality_2018\n",
    "del air_quality_2019\n",
    "del air_quality_2020\n",
    "del air_quality_2021\n",
    "del air_quality_2022\n",
    "del air_quality_2023"
   ]
  },
  {
   "cell_type": "code",
   "execution_count": 5,
   "id": "215775cd-b9f4-4b86-92dd-c2f1adaf19c1",
   "metadata": {},
   "outputs": [],
   "source": [
    "# Remove unnecessary Coloums\n",
    "\n",
    "air_quality_complete.drop(columns=[\"Stationsname\",\"Schadstoff\", \"Uhrzeit\", \"Art der Auswertung\", \"Einheit\"], inplace=True)"
   ]
  },
  {
   "cell_type": "code",
   "execution_count": 6,
   "id": "f6a7e015-77c3-4111-9457-49ef96700066",
   "metadata": {
    "tags": []
   },
   "outputs": [],
   "source": [
    "# Convert Coloums to concrete Datatypes\n",
    "\n",
    "air_quality_complete[\"Bundesland / Messnetz\"] = air_quality_complete[\"Bundesland / Messnetz\"].astype(\"string\") \n",
    "air_quality_complete[\"Stationscode\"] = air_quality_complete[\"Stationscode\"].astype(\"string\") \n",
    "air_quality_complete[\"Stationsumgebung\"] = air_quality_complete[\"Stationsumgebung\"].astype(\"string\") \n",
    "air_quality_complete[\"Art der Station\"] = air_quality_complete[\"Art der Station\"].astype(\"string\") \n",
    "air_quality_complete[\"Datum\"] = pd.to_datetime(air_quality_complete[\"Datum\"], format=\"%d.%m.%Y\")\n",
    "air_quality_complete[\"Messwert\"] = pd.to_numeric(air_quality_complete[\"Messwert\"], errors=\"coerce\").astype(\"Int64\")"
   ]
  },
  {
   "cell_type": "code",
   "execution_count": 7,
   "id": "eeeb839e",
   "metadata": {},
   "outputs": [],
   "source": [
    "# Create Output Folder for PM10 if not allready present\n",
    "\n",
    "import os\n",
    "\n",
    "output_path = \"../Data/Output/PM10\"\n",
    "\n",
    "if not os.path.exists(output_path):\n",
    "   os.makedirs(output_path)\n",
    "\n",
    "# Save Dataset to Disk\n",
    "\n",
    "air_quality_complete.to_csv(output_path + \"/2016-01-01-2023-03-01.csv\", index=False)"
   ]
  },
  {
   "cell_type": "code",
   "execution_count": 8,
   "id": "99655408-73df-4c16-a9a5-18873c06134d",
   "metadata": {},
   "outputs": [],
   "source": [
    "# Example to Load the Data with the concrete Datatypes\n",
    "\n",
    "air_quality_test = pd.read_csv(output_path + \"/2016-01-01-2023-03-01.csv\",\n",
    "                                parse_dates = [\"Datum\"],\n",
    "                                dtype = {\"Bundesland / Messnetz\": \"string\",\n",
    "                                        \"Stationscode\": \"string\",\n",
    "                                        \"Stationsumgebung\": \"string\",\n",
    "                                        \"Art der Station\": \"string\",\n",
    "                                        \"Messwert\": \"Int64\"})"
   ]
  }
 ],
 "metadata": {
  "kernelspec": {
   "display_name": "Python 3 (ipykernel)",
   "language": "python",
   "name": "python3"
  },
  "language_info": {
   "codemirror_mode": {
    "name": "ipython",
    "version": 3
   },
   "file_extension": ".py",
   "mimetype": "text/x-python",
   "name": "python",
   "nbconvert_exporter": "python",
   "pygments_lexer": "ipython3",
   "version": "3.10.11"
  }
 },
 "nbformat": 4,
 "nbformat_minor": 5
}
